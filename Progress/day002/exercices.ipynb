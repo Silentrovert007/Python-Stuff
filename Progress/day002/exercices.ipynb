{
 "cells": [
  {
   "cell_type": "markdown",
   "metadata": {},
   "source": [
    "# Interative Codin exercises\n"
   ]
  },
  {
   "cell_type": "markdown",
   "metadata": {},
   "source": [
    "## Data types"
   ]
  },
  {
   "cell_type": "code",
   "execution_count": null,
   "metadata": {},
   "outputs": [],
   "source": [
    "# Ex001 -- Two digit number\n",
    "number = (input(\"Enter a two digit number: \"))\n",
    "a = number[0]\n",
    "b = number[1]\n",
    "\n",
    "sum = int(a) + int(b)\n",
    "\n",
    "print(\"The sum is \" + str(sum) + \".\")"
   ]
  },
  {
   "cell_type": "markdown",
   "metadata": {},
   "source": [
    "## Body Mass Index"
   ]
  },
  {
   "cell_type": "code",
   "execution_count": 10,
   "metadata": {},
   "outputs": [
    {
     "name": "stdout",
     "output_type": "stream",
     "text": [
      "Your BMI is 17.\n"
     ]
    }
   ],
   "source": [
    "weight = float(input(\"input your weight in Kilograms: \"))\n",
    "height = float(input(\"Input Your height in metters: \"))\n",
    "\n",
    "bmi = int(weight /(height**2))\n",
    "\n",
    "print(\"Your BMI is \" + str(bmi) + \".\")"
   ]
  },
  {
   "cell_type": "markdown",
   "metadata": {},
   "source": [
    "# Number of Weeks"
   ]
  },
  {
   "cell_type": "code",
   "execution_count": 14,
   "metadata": {},
   "outputs": [
    {
     "name": "stdout",
     "output_type": "stream",
     "text": [
      "You have 4680 weeks left\n"
     ]
    }
   ],
   "source": [
    "age = int(input(\"How old are you? A: \"))\n",
    "years = 90\n",
    "weeks_left = 52*(years - age)\n",
    "\n",
    "print(f\"You have {weeks_left} weeks left\")"
   ]
  }
 ],
 "metadata": {
  "kernelspec": {
   "display_name": "Python 3",
   "language": "python",
   "name": "python3"
  },
  "language_info": {
   "codemirror_mode": {
    "name": "ipython",
    "version": 3
   },
   "file_extension": ".py",
   "mimetype": "text/x-python",
   "name": "python",
   "nbconvert_exporter": "python",
   "pygments_lexer": "ipython3",
   "version": "3.10.12"
  }
 },
 "nbformat": 4,
 "nbformat_minor": 2
}
