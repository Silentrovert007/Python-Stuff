{
 "cells": [
  {
   "cell_type": "markdown",
   "metadata": {},
   "source": [
    "# Day 001\n",
    "* Printing\n",
    "* Commenting\n",
    "* Debugging\n",
    "* String manipulation\n",
    "* Variables\n",
    "* Project: Band name generator"
   ]
  },
  {
   "cell_type": "markdown",
   "metadata": {},
   "source": [
    "## Printing"
   ]
  },
  {
   "cell_type": "code",
   "execution_count": null,
   "metadata": {},
   "outputs": [],
   "source": [
    "print(\"Gaspar is HANDSOME!!!\")  # -> Prints the content between parenthesis and double quotes to the screen\n",
    "                                # -> The content must be between a double or single quotes\n",
    "                                # -> A syntax error is displayed if the rules above are not errors\n",
    "                                # -> If we find an error and do not know how to fix, copy and paste to google, and find the solution on the web."
   ]
  },
  {
   "cell_type": "code",
   "execution_count": null,
   "metadata": {},
   "outputs": [],
   "source": [
    "#Exercise 1: Debugging\n",
    "print(\"Day 1 - String manipulation\")\n",
    "print('String concatenation is done with the \"+\" sign.')\n",
    "print('eg. print(\"Hello \" + \"World!\")')\n",
    "print(\"New lines can be created with a backslash and n.\")"
   ]
  },
  {
   "cell_type": "markdown",
   "metadata": {},
   "source": [
    "### imput fuction\n",
    "* prompts data to the user"
   ]
  },
  {
   "cell_type": "code",
   "execution_count": null,
   "metadata": {},
   "outputs": [],
   "source": [
    "print(\"Hello, \" + input(\"What is your name? \") + \"!\")"
   ]
  },
  {
   "cell_type": "code",
   "execution_count": null,
   "metadata": {},
   "outputs": [],
   "source": [
    "# Exercise 1: input function\n",
    "print(input(\"First mate: \"))\n",
    "print(input(\"Second mate: \"))\n",
    "print(input(\"third mate: \")) "
   ]
  },
  {
   "cell_type": "code",
   "execution_count": null,
   "metadata": {},
   "outputs": [],
   "source": [
    "num1 = int(input(\"enter a number: \"))\n",
    "num2 = int(input(\"enter another\"))\n",
    "sum = num1 + num2\n",
    "print(sum)"
   ]
  },
  {
   "cell_type": "code",
   "execution_count": null,
   "metadata": {},
   "outputs": [],
   "source": [
    "#Number of letters:\n",
    "# The len() calculates the size of lists, strings, etc.\n",
    "\n",
    "num_of_letters = print(\"The word has \" + str(len(input(\"What's the word?: \"))) + \" letters\")\n"
   ]
  },
  {
   "cell_type": "markdown",
   "metadata": {},
   "source": [
    "## Variables\n",
    "* used to store data\n",
    "* programmers must follow the variable name convention\n",
    "* avoid uppercase letters for normal variables\n",
    "* avoid starting a variable with a number\n",
    "* variables must not contain dashes\n",
    "* the variable names should be short and descriptive\n",
    "* variales can be changed"
   ]
  },
  {
   "cell_type": "code",
   "execution_count": null,
   "metadata": {},
   "outputs": [],
   "source": [
    "name = input(\"What is your name? \")\n",
    "print(name)"
   ]
  },
  {
   "cell_type": "code",
   "execution_count": null,
   "metadata": {},
   "outputs": [],
   "source": [
    "name = \"Jack\"\n",
    "print(name)\n",
    "\n",
    "name = \"Angela\"\n",
    "print(name)\n",
    "\n",
    "name = input(\"What's your name?\")\n",
    "legth = len(name)\n",
    "print(legth)"
   ]
  },
  {
   "cell_type": "code",
   "execution_count": null,
   "metadata": {},
   "outputs": [],
   "source": [
    "# Exercise: variable swaping\n",
    "\n",
    "a = input()\n",
    "b = input()\n",
    "\n",
    "c = a\n",
    "a = b \n",
    "b = c \n",
    "\n",
    "print(\"a: \" + a)\n",
    "print(\"b: \" + b)"
   ]
  }
 ],
 "metadata": {
  "kernelspec": {
   "display_name": "Python 3",
   "language": "python",
   "name": "python3"
  },
  "language_info": {
   "codemirror_mode": {
    "name": "ipython",
    "version": 3
   },
   "file_extension": ".py",
   "mimetype": "text/x-python",
   "name": "python",
   "nbconvert_exporter": "python",
   "pygments_lexer": "ipython3",
   "version": "3.10.12"
  }
 },
 "nbformat": 4,
 "nbformat_minor": 2
}
